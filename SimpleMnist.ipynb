{
  "nbformat": 4,
  "nbformat_minor": 0,
  "metadata": {
    "colab": {
      "provenance": [],
      "authorship_tag": "ABX9TyPDykOS3PRtJoF27ND2XTuZ",
      "include_colab_link": true
    },
    "kernelspec": {
      "name": "python3",
      "display_name": "Python 3"
    },
    "language_info": {
      "name": "python"
    }
  },
  "cells": [
    {
      "cell_type": "markdown",
      "metadata": {
        "id": "view-in-github",
        "colab_type": "text"
      },
      "source": [
        "<a href=\"https://colab.research.google.com/github/KeithEvanSchubert/tfexamples/blob/main/SimpleMnist.ipynb\" target=\"_parent\"><img src=\"https://colab.research.google.com/assets/colab-badge.svg\" alt=\"Open In Colab\"/></a>"
      ]
    },
    {
      "cell_type": "code",
      "execution_count": null,
      "metadata": {
        "id": "DpOdRp4ruEfH"
      },
      "outputs": [],
      "source": [
        "import tensorflow as tf\n",
        "mnist=tf.keras.datasets.mnist\n",
        "(x_train,y_train),(x_test,y_test)=mnist.load_data()\n",
        "x_train,x_test=x_train/255.0,x_test/255.0\n",
        "model=tf.keras.models.Sequential([\n",
        "    tf.keras.layers.Flatten(input_shape=(28,28)),\n",
        "    tf.keras.layers.Dense(128,activation='relu'),\n",
        "    tf.keras.layers.Dropout(0.2),\n",
        "    tf.keras.layers.Dense(10)\n",
        "])\n",
        "model.compile(optimizer='adam',\n",
        "              loss=tf.keras.losses.SparseCategoricalCrossentropy(from_logits=True),\n",
        "              metrics=['accuracy'])\n",
        "model.fit(x_train, y_train, epochs=5)\n",
        "model.evaluate(x_test,y_test,verbose=2)\n",
        "probability_model=tf.keras.Sequential([\n",
        "    model,\n",
        "    tf.keras.layers.Softmax()\n",
        "])\n",
        "predictions=probability_model(x_test)\n"
      ]
    },
    {
      "cell_type": "code",
      "source": [
        "\n",
        "import matplotlib.pyplot as plt\n",
        "n=15\n",
        "plt.imshow(x_test[n])\n",
        "predictions[n]"
      ],
      "metadata": {
        "id": "YgbCdKUgxt25"
      },
      "execution_count": null,
      "outputs": []
    }
  ]
}